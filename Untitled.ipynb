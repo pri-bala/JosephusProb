{
 "cells": [
  {
   "cell_type": "markdown",
   "metadata": {},
   "source": [
    "# Visualising a Solution to the Josephus Problem - BiFrost"
   ]
  },
  {
   "cell_type": "code",
   "execution_count": 1,
   "metadata": {},
   "outputs": [],
   "source": [
    "n = 5 #People in circle\n",
    "k = 2"
   ]
  },
  {
   "cell_type": "code",
   "execution_count": 2,
   "metadata": {},
   "outputs": [],
   "source": [
    "import pandas as pd"
   ]
  },
  {
   "cell_type": "code",
   "execution_count": null,
   "metadata": {},
   "outputs": [],
   "source": []
  },
  {
   "cell_type": "code",
   "execution_count": null,
   "metadata": {},
   "outputs": [],
   "source": []
  },
  {
   "cell_type": "code",
   "execution_count": null,
   "metadata": {},
   "outputs": [],
   "source": [
    "#Execute -> Identify next to Execute -> Remove corpse of last one"
   ]
  },
  {
   "cell_type": "code",
   "execution_count": 34,
   "metadata": {},
   "outputs": [],
   "source": [
    "def Execute(people_ids:list, lastkillposn:int, k:int, FirstKill=False ):\n",
    "    '''\n",
    "    ARGS\n",
    "    lastkillposn - e.g. this would be 3 if the person was the third living person in the circle,\n",
    "    irrespective of their original position (i.e. irrespective of their id)\n",
    "    \n",
    "    \n",
    "    \n",
    "    RETURNS\n",
    "    list of people, with the corpse marked as None\n",
    "    \n",
    "    '''\n",
    "    remaining_circle_size = len(people_ids) #This includes the last killed person. e.g. if there are 3 alive, we are still couting from the 4th who is dead\n",
    "    \n",
    "    # Get the next kill position (i.e. out of the cicle formed of the remaining people, including the corpselast killed)\n",
    "    killposn = (lastkillposn + k) % remaining_circle_size\n",
    "    \n",
    "\n",
    "    \n",
    "    killposn = killposn\n",
    "    killid = people_ids[killposn]\n",
    "\n",
    "    people_ids[killposn] = None\n",
    "    \n",
    "    #Remove corpse of previous kill\n",
    "     \n",
    "    \n",
    "    return people_ids, killposn, killid\n",
    "\n",
    "\n",
    "\n",
    "def Executions(allpeopleids:list, k:int, startposn = 0,  printing = True):\n",
    "    \n",
    "    alivepeople = allpeopleids\n",
    "    lastkill = startposn #initially starting from position 0\n",
    "    firstkill=True\n",
    "    \n",
    "    \n",
    "    while len(alivepeople)>1: \n",
    "        alivepeople, lastkill, lastkillid = Execute(alivepeople, lastkill,2, firstkill)\n",
    "        print(alivepeople, lastkillid, lastkill)\n",
    "        firstkill=False\n",
    "\n",
    "    return alivepeople"
   ]
  },
  {
   "cell_type": "code",
   "execution_count": 35,
   "metadata": {},
   "outputs": [
    {
     "data": {
      "text/plain": [
       "([2, None, 4, 5], 2, 3)"
      ]
     },
     "execution_count": 35,
     "metadata": {},
     "output_type": "execute_result"
    }
   ],
   "source": [
    "# All people are alive initially\n",
    "alivepeople = list(range(1,n+1))\n",
    "alivepeople\n",
    "\n",
    "\n",
    "Execute([1,2,3,4,5], 0, 2)"
   ]
  },
  {
   "cell_type": "code",
   "execution_count": 36,
   "metadata": {},
   "outputs": [
    {
     "name": "stdout",
     "output_type": "stream",
     "text": [
      "[1, 2, None, 4, 5] 3 2\n",
      "[1, 2, 4, None] 5 4\n"
     ]
    },
    {
     "ename": "IndexError",
     "evalue": "list assignment index out of range",
     "output_type": "error",
     "traceback": [
      "\u001b[0;31m---------------------------------------------------------------------------\u001b[0m",
      "\u001b[0;31mIndexError\u001b[0m                                Traceback (most recent call last)",
      "\u001b[0;32m<ipython-input-36-4ed67c7de3e5>\u001b[0m in \u001b[0;36m<module>\u001b[0;34m\u001b[0m\n\u001b[0;32m----> 1\u001b[0;31m \u001b[0mExecutions\u001b[0m\u001b[0;34m(\u001b[0m\u001b[0malivepeople\u001b[0m\u001b[0;34m,\u001b[0m\u001b[0;36m0\u001b[0m\u001b[0;34m,\u001b[0m \u001b[0;36m0\u001b[0m\u001b[0;34m)\u001b[0m\u001b[0;34m\u001b[0m\u001b[0;34m\u001b[0m\u001b[0m\n\u001b[0m",
      "\u001b[0;32m<ipython-input-34-9a1e7ce5e6d6>\u001b[0m in \u001b[0;36mExecutions\u001b[0;34m(allpeopleids, k, startposn, printing)\u001b[0m\n\u001b[1;32m     39\u001b[0m \u001b[0;34m\u001b[0m\u001b[0m\n\u001b[1;32m     40\u001b[0m     \u001b[0;32mwhile\u001b[0m \u001b[0mlen\u001b[0m\u001b[0;34m(\u001b[0m\u001b[0malivepeople\u001b[0m\u001b[0;34m)\u001b[0m\u001b[0;34m>\u001b[0m\u001b[0;36m1\u001b[0m\u001b[0;34m:\u001b[0m\u001b[0;34m\u001b[0m\u001b[0;34m\u001b[0m\u001b[0m\n\u001b[0;32m---> 41\u001b[0;31m         \u001b[0malivepeople\u001b[0m\u001b[0;34m,\u001b[0m \u001b[0mlastkill\u001b[0m\u001b[0;34m,\u001b[0m \u001b[0mlastkillid\u001b[0m \u001b[0;34m=\u001b[0m \u001b[0mExecute\u001b[0m\u001b[0;34m(\u001b[0m\u001b[0malivepeople\u001b[0m\u001b[0;34m,\u001b[0m \u001b[0mlastkill\u001b[0m\u001b[0;34m,\u001b[0m\u001b[0;36m2\u001b[0m\u001b[0;34m,\u001b[0m \u001b[0mfirstkill\u001b[0m\u001b[0;34m)\u001b[0m\u001b[0;34m\u001b[0m\u001b[0;34m\u001b[0m\u001b[0m\n\u001b[0m\u001b[1;32m     42\u001b[0m         \u001b[0mprint\u001b[0m\u001b[0;34m(\u001b[0m\u001b[0malivepeople\u001b[0m\u001b[0;34m,\u001b[0m \u001b[0mlastkillid\u001b[0m\u001b[0;34m,\u001b[0m \u001b[0mlastkill\u001b[0m\u001b[0;34m)\u001b[0m\u001b[0;34m\u001b[0m\u001b[0;34m\u001b[0m\u001b[0m\n\u001b[1;32m     43\u001b[0m         \u001b[0mfirstkill\u001b[0m\u001b[0;34m=\u001b[0m\u001b[0;32mFalse\u001b[0m\u001b[0;34m\u001b[0m\u001b[0;34m\u001b[0m\u001b[0m\n",
      "\u001b[0;32m<ipython-input-34-9a1e7ce5e6d6>\u001b[0m in \u001b[0;36mExecute\u001b[0;34m(people_ids, lastkillposn, k, FirstKill)\u001b[0m\n\u001b[1;32m     25\u001b[0m     \u001b[0;31m#Remove corpse of previous kill\u001b[0m\u001b[0;34m\u001b[0m\u001b[0;34m\u001b[0m\u001b[0;34m\u001b[0m\u001b[0m\n\u001b[1;32m     26\u001b[0m     \u001b[0;32mif\u001b[0m \u001b[0mFirstKill\u001b[0m \u001b[0;34m==\u001b[0m \u001b[0;32mFalse\u001b[0m\u001b[0;34m:\u001b[0m\u001b[0;34m\u001b[0m\u001b[0;34m\u001b[0m\u001b[0m\n\u001b[0;32m---> 27\u001b[0;31m         \u001b[0;32mdel\u001b[0m \u001b[0mpeople_ids\u001b[0m\u001b[0;34m[\u001b[0m\u001b[0mlastkillposn\u001b[0m\u001b[0;34m]\u001b[0m\u001b[0;34m\u001b[0m\u001b[0;34m\u001b[0m\u001b[0m\n\u001b[0m\u001b[1;32m     28\u001b[0m \u001b[0;34m\u001b[0m\u001b[0m\n\u001b[1;32m     29\u001b[0m     \u001b[0;32mreturn\u001b[0m \u001b[0mpeople_ids\u001b[0m\u001b[0;34m,\u001b[0m \u001b[0mkillposn\u001b[0m\u001b[0;34m,\u001b[0m \u001b[0mkillid\u001b[0m\u001b[0;34m\u001b[0m\u001b[0;34m\u001b[0m\u001b[0m\n",
      "\u001b[0;31mIndexError\u001b[0m: list assignment index out of range"
     ]
    }
   ],
   "source": [
    "Executions(alivepeople,0, 0)"
   ]
  },
  {
   "cell_type": "code",
   "execution_count": 38,
   "metadata": {},
   "outputs": [
    {
     "data": {
      "text/plain": [
       "True"
      ]
     },
     "execution_count": 38,
     "metadata": {},
     "output_type": "execute_result"
    }
   ],
   "source": [
    "[1,2,None,5] != None\n"
   ]
  }
 ],
 "metadata": {
  "kernelspec": {
   "display_name": "Python 3",
   "language": "python",
   "name": "python3"
  },
  "language_info": {
   "codemirror_mode": {
    "name": "ipython",
    "version": 3
   },
   "file_extension": ".py",
   "mimetype": "text/x-python",
   "name": "python",
   "nbconvert_exporter": "python",
   "pygments_lexer": "ipython3",
   "version": "3.7.5"
  }
 },
 "nbformat": 4,
 "nbformat_minor": 2
}
