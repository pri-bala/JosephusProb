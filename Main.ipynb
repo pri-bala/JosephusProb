{
 "cells": [
  {
   "cell_type": "markdown",
   "metadata": {},
   "source": [
    "# Visualising a Solution to the Josephus Problem - BiFrost"
   ]
  },
  {
   "cell_type": "code",
   "execution_count": 1,
   "metadata": {},
   "outputs": [],
   "source": [
    "n = 5 #People in circle\n",
    "k = 2"
   ]
  },
  {
   "cell_type": "code",
   "execution_count": 9,
   "metadata": {},
   "outputs": [],
   "source": [
    "import pandas as pd\n",
    "import matplotlib.pyplot as plt"
   ]
  },
  {
   "cell_type": "code",
   "execution_count": 189,
   "metadata": {},
   "outputs": [],
   "source": [
    "def Execute(people:list, k=2, verbose=True):\n",
    "    \n",
    "    #LE - Last Executed    \n",
    "    try:\n",
    "        LE_ID = people.index('LastExecuted')\n",
    "    except:\n",
    "        LE_ID = 0\n",
    "        \n",
    "    LE_clockwise_all = people[LE_ID:] + people[:LE_ID]\n",
    "\n",
    "    #Includes person who last got executed\n",
    "    LE_clockwise_aliveonly = [p  for p in LE_clockwise_all if p not in (\"Dead\", \"LastExecuted\") ]\n",
    "\n",
    "\n",
    "        #Identify who to execute\n",
    "    try:\n",
    "        executeID = LE_clockwise_aliveonly[k-1]\n",
    "    except:\n",
    "        #In the last few iterations, you may have to loop around - e.g. if you're executing every k=4th person, but\n",
    "        #only 3 are still alive\n",
    "        executeID = LE_clockwise_aliveonly[(k-1) % len(LE_clockwise_aliveonly)]\n",
    "\n",
    "    \n",
    "    # Last Executed person is now dead\n",
    "    people = ['Dead' if p=='LastExecuted' else p for p in people]\n",
    "\n",
    "    # Execute.\n",
    "    people = ['LastExecuted' if p==executeID else p for p in people]\n",
    "    \n",
    "    if verbose==True: print(people)\n",
    "    \n",
    "    return people"
   ]
  },
  {
   "cell_type": "code",
   "execution_count": 190,
   "metadata": {},
   "outputs": [],
   "source": [
    "def Executions(n, k, verbose=True):\n",
    "\n",
    "    people = [str(i) for i in range(1,n+1)]\n",
    "    num_executions = len(people) \n",
    "\n",
    "    i=1\n",
    "\n",
    "    while i < num_executions:\n",
    "\n",
    "        people = Execute(people, k=k, verbose=verbose)\n",
    "\n",
    "        i+=1\n",
    "\n",
    "    #Extract person ID\n",
    "    return int([p for p in people if p not in ('Dead', 'LastExecuted')][0])"
   ]
  },
  {
   "cell_type": "code",
   "execution_count": 191,
   "metadata": {},
   "outputs": [
    {
     "name": "stdout",
     "output_type": "stream",
     "text": [
      "['1', 'LastExecuted', '3', '4', '5', '6', '7', '8', '9', '10', '11']\n",
      "['1', 'Dead', '3', 'LastExecuted', '5', '6', '7', '8', '9', '10', '11']\n",
      "['1', 'Dead', '3', 'Dead', '5', 'LastExecuted', '7', '8', '9', '10', '11']\n",
      "['1', 'Dead', '3', 'Dead', '5', 'Dead', '7', 'LastExecuted', '9', '10', '11']\n",
      "['1', 'Dead', '3', 'Dead', '5', 'Dead', '7', 'Dead', '9', 'LastExecuted', '11']\n",
      "['LastExecuted', 'Dead', '3', 'Dead', '5', 'Dead', '7', 'Dead', '9', 'Dead', '11']\n",
      "['Dead', 'Dead', '3', 'Dead', 'LastExecuted', 'Dead', '7', 'Dead', '9', 'Dead', '11']\n",
      "['Dead', 'Dead', '3', 'Dead', 'Dead', 'Dead', '7', 'Dead', 'LastExecuted', 'Dead', '11']\n",
      "['Dead', 'Dead', 'LastExecuted', 'Dead', 'Dead', 'Dead', '7', 'Dead', 'Dead', 'Dead', '11']\n",
      "['Dead', 'Dead', 'Dead', 'Dead', 'Dead', 'Dead', '7', 'Dead', 'Dead', 'Dead', 'LastExecuted']\n"
     ]
    },
    {
     "data": {
      "text/plain": [
       "7"
      ]
     },
     "execution_count": 191,
     "metadata": {},
     "output_type": "execute_result"
    }
   ],
   "source": [
    "Executions(11,2, verbose=True)"
   ]
  },
  {
   "cell_type": "code",
   "execution_count": 192,
   "metadata": {},
   "outputs": [],
   "source": [
    "\n",
    "from math import sin, cos, pi #F or calculat ing point on circumference - step out radius"
   ]
  },
  {
   "cell_type": "code",
   "execution_count": 196,
   "metadata": {},
   "outputs": [],
   "source": [
    "def plotPeople(n_points, k=2, markersize=1000, figsize=(10,10), verbose=False):\n",
    "    \n",
    "    alive_id = Executions(n_points,k, verbose=verbose)\n",
    "    \n",
    "    thetas = [-i*((2*pi)/n_points) + (pi/2) for i in range(n_points)]\n",
    "\n",
    "\n",
    "    cols = ['green' if i == alive_id-1 else 'grey' for i in range(n_points)]\n",
    "\n",
    "    xs = [cos(theta) for theta in thetas ]\n",
    "\n",
    "    ys = [sin(theta) for theta in thetas ]\n",
    "\n",
    "    ids = list(range(1, n_points+1))\n",
    "\n",
    "\n",
    "    fig, ax = plt.subplots(figsize=figsize)\n",
    "\n",
    "    scttr = ax.scatter(xs, ys, color=cols,s=markersize )\n",
    "    for i in range(0, n_points):\n",
    "        ax.annotate(ids[i], [xs[i]+0.05, ys[i]+0.05],)\n",
    "        ax.axis('off')\n",
    "    return fig\n",
    "\n",
    "#p = plotPeople(20, 6)"
   ]
  },
  {
   "cell_type": "code",
   "execution_count": 201,
   "metadata": {},
   "outputs": [],
   "source": [
    "\n",
    "from __future__ import print_function\n",
    "from ipywidgets import interact, interactive, fixed, interact_manual\n",
    "import ipywidgets as widgets\n",
    "\n",
    "from ipykernel.pylab.backend_inline import flush_figures\n",
    "\n",
    "%matplotlib inline"
   ]
  },
  {
   "cell_type": "code",
   "execution_count": 202,
   "metadata": {},
   "outputs": [
    {
     "data": {
      "application/vnd.jupyter.widget-view+json": {
       "model_id": "bd97336cfea348bda9f85857465caf2f",
       "version_major": 2,
       "version_minor": 0
      },
      "text/plain": [
       "HBox(children=(IntSlider(value=10, max=50, min=3), IntSlider(value=2, max=7, min=2), Checkbox(value=True)))"
      ]
     },
     "metadata": {},
     "output_type": "display_data"
    },
    {
     "data": {
      "application/vnd.jupyter.widget-view+json": {
       "model_id": "c6bc2fcf45144737bcdb73c9c3f5a4e9",
       "version_major": 2,
       "version_minor": 0
      },
      "text/plain": [
       "Output()"
      ]
     },
     "metadata": {},
     "output_type": "display_data"
    }
   ],
   "source": [
    "a = widgets.IntSlider(10, 3,50)\n",
    "b = widgets.IntSlider(2,2,7)\n",
    "c = widgets.Checkbox(True)\n",
    "ui = widgets.HBox([a, b,c])\n",
    "\n",
    "def f(a, b):\n",
    "    print((a, b))\n",
    "\n",
    "out = widgets.interactive_output(plotPeople, {'n_points': a, 'k': b, 'verbose':c})\n",
    "\n",
    "display(ui, out)"
   ]
  }
 ],
 "metadata": {
  "kernelspec": {
   "display_name": "Python 3",
   "language": "python",
   "name": "python3"
  },
  "language_info": {
   "codemirror_mode": {
    "name": "ipython",
    "version": 3
   },
   "file_extension": ".py",
   "mimetype": "text/x-python",
   "name": "python",
   "nbconvert_exporter": "python",
   "pygments_lexer": "ipython3",
   "version": "3.7.5"
  }
 },
 "nbformat": 4,
 "nbformat_minor": 2
}
