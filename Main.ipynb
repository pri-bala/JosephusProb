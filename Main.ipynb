{
 "cells": [
  {
   "cell_type": "markdown",
   "metadata": {},
   "source": [
    "# Visualising a Solution to the Josephus Problem - BiFrost"
   ]
  },
  {
   "cell_type": "code",
   "execution_count": 1,
   "metadata": {},
   "outputs": [],
   "source": [
    "import pandas as pd\n",
    "import matplotlib.pyplot as plt"
   ]
  },
  {
   "cell_type": "code",
   "execution_count": 2,
   "metadata": {},
   "outputs": [],
   "source": [
    "def Execute(people:list, k=2, verbose=True):\n",
    "    '''\n",
    "    This function takes a list of people and 'executes' the relevant next person, replacing their string ID with \n",
    "    string \"LastExecuted\". All previously executed people will be marked \"Dead\"\n",
    "    \n",
    "    \n",
    "    '''\n",
    "    #LE - Last Executed    \n",
    "    try:\n",
    "        LE_ID = people.index('LastExecuted')\n",
    "    except:\n",
    "        #If this is the fi\n",
    "        LE_ID = 0\n",
    "        \n",
    "    LE_clockwise_all = people[LE_ID:] + people[:LE_ID]\n",
    "\n",
    "    #Includes person who last got executed\n",
    "    LE_clockwise_aliveonly = [p  for p in LE_clockwise_all if p not in (\"Dead\", \"LastExecuted\") ]\n",
    "\n",
    "\n",
    "        #Identify who to execute\n",
    "    try:\n",
    "        executeID = LE_clockwise_aliveonly[k-1]\n",
    "    except:\n",
    "        #In the last few iterations, you may have to loop around - e.g. if you're executing every k=4th person, but\n",
    "        #only 3 are still alive\n",
    "        executeID = LE_clockwise_aliveonly[(k-1) % len(LE_clockwise_aliveonly)]\n",
    "\n",
    "    \n",
    "    # Last Executed person is now dead\n",
    "    people = ['Dead' if p=='LastExecuted' else p for p in people]\n",
    "\n",
    "    # Execute.\n",
    "    people = ['LastExecuted' if p==executeID else p for p in people]\n",
    "    \n",
    "    if verbose==True: print(people)\n",
    "    \n",
    "    return people"
   ]
  },
  {
   "cell_type": "code",
   "execution_count": 3,
   "metadata": {},
   "outputs": [],
   "source": [
    "def Executions(n, k, verbose=True):\n",
    "\n",
    "    people = [str(i) for i in range(1,n+1)]\n",
    "    num_executions = len(people) \n",
    "    peopleHistory = []\n",
    "    i=1\n",
    "\n",
    "    while i < num_executions:\n",
    "\n",
    "        people = Execute(people, k=k, verbose=verbose)\n",
    "        peopleHistory.append(people)\n",
    "        i+=1\n",
    "\n",
    "    #Extract person ID\n",
    "    survivorID = int([p for p in people if p not in ('Dead', 'LastExecuted')][0])\n",
    "    \n",
    "    return survivorID, peopleHistory"
   ]
  },
  {
   "cell_type": "code",
   "execution_count": null,
   "metadata": {},
   "outputs": [],
   "source": []
  },
  {
   "cell_type": "code",
   "execution_count": 4,
   "metadata": {},
   "outputs": [],
   "source": [
    "def plotIteration(executionHistory,  xs, ys, iteration = None, figsize=(10,10), markersize=300):\n",
    "\n",
    "    if iteration == None: iteration = len(executionHistory)\n",
    "\n",
    "    n_points = len(xs)\n",
    "    personstatuses = executionHistory[iteration-1]\n",
    "\n",
    "    #Get the coordinateas of the last executed\n",
    "    LE_index = personstatuses.index('LastExecuted')\n",
    "    LE_x = xs[LE_index]\n",
    "    LE_y = ys[LE_index]\n",
    "\n",
    "    cols = ['#dad9d9' if stat in ('Dead', 'LastExecuted') else '#bada55' for stat in personstatuses ]\n",
    "\n",
    "\n",
    "    ids = list(range(1, n_points+1))\n",
    "\n",
    "\n",
    "    fig, ax = plt.subplots(figsize=figsize)\n",
    "    #Ensure axes don't move as we interact\n",
    "    ax.set_xlim([-1.3,1.3])\n",
    "    ax.set_ylim([-1.3,1.3])\n",
    "    \n",
    "    scttr = ax.scatter(xs, ys, color=cols,s=markersize)\n",
    "    for i in range(0, n_points):\n",
    "        ax.annotate(ids[i], [xs[i]+0.05, ys[i]+0.05],)\n",
    "        ax.axis('off')\n",
    "        ax.scatter(LE_x, LE_y, color='red',s=markersize*2.5, marker='x'  )\n"
   ]
  },
  {
   "cell_type": "code",
   "execution_count": 5,
   "metadata": {},
   "outputs": [],
   "source": [
    "\n",
    "from math import sin, cos, pi #F or calculat ing point on circumference - step out radius"
   ]
  },
  {
   "cell_type": "code",
   "execution_count": 6,
   "metadata": {},
   "outputs": [],
   "source": [
    "def doJosephus(n_points, k=2, markersize=1000, figsize=(10,10), verbose=False):\n",
    "    \n",
    "    \n",
    "    alive_id, executionHistory = Executions(n_points,k, verbose=verbose)\n",
    "    \n",
    "    thetas = [-i*((2*pi)/n_points) + (pi/2) for i in range(n_points)]\n",
    "\n",
    "    xs = [cos(theta) for theta in thetas ]\n",
    "\n",
    "    ys = [sin(theta) for theta in thetas ]\n",
    "\n",
    "    return executionHistory, xs, ys"
   ]
  },
  {
   "cell_type": "code",
   "execution_count": 7,
   "metadata": {},
   "outputs": [],
   "source": [
    "\n",
    "from __future__ import print_function\n",
    "from ipywidgets import interact, interactive, fixed, interact_manual\n",
    "import ipywidgets as widgets\n",
    "\n",
    "from ipykernel.pylab.backend_inline import flush_figures\n",
    "\n",
    "%matplotlib inline"
   ]
  },
  {
   "cell_type": "code",
   "execution_count": 77,
   "metadata": {},
   "outputs": [
    {
     "data": {
      "application/vnd.jupyter.widget-view+json": {
       "model_id": "24d48fe4c8aa4aa98075f6e3b42d4b9e",
       "version_major": 2,
       "version_minor": 0
      },
      "text/plain": [
       "VBox(children=(Text(value='Create Josephus Scenario'), VBox(children=(HBox(children=(Label(value='Number of Pe…"
      ]
     },
     "metadata": {},
     "output_type": "display_data"
    },
    {
     "data": {
      "application/vnd.jupyter.widget-view+json": {
       "model_id": "243a0d3e39a44719ab32f3aecd928178",
       "version_major": 2,
       "version_minor": 0
      },
      "text/plain": [
       "VBox(children=(Text(value='Playback Scenario Executions'), HBox(children=(Label(value='Which iteration to visu…"
      ]
     },
     "metadata": {},
     "output_type": "display_data"
    },
    {
     "data": {
      "application/vnd.jupyter.widget-view+json": {
       "model_id": "8605bee66a06435eb870351936388d43",
       "version_major": 2,
       "version_minor": 0
      },
      "text/plain": [
       "Output(layout=Layout(visibility='hidden'))"
      ]
     },
     "metadata": {},
     "output_type": "display_data"
    },
    {
     "name": "stdout",
     "output_type": "stream",
     "text": [
      "bla\n",
      "bla\n",
      "bla\n"
     ]
    }
   ],
   "source": [
    "# SCENARIO UI\n",
    "scenario_header = widgets.Text(\"Create Josephus Scenario\",)\n",
    "\n",
    "n_label = widgets.Label(\"Number of People, n:\")\n",
    "n_widget = widgets.IntSlider(value = 10, min = 3, max = 50)\n",
    "n_box = widgets.HBox([n_label,n_widget])\n",
    "\n",
    "k_label = widgets.Label(\"Execution jump -i.e. execute every kth person, k:\")\n",
    "k_widget = widgets.IntSlider(value = 2, min = 2, max = 7)\n",
    "k_box = widgets.HBox([k_label,k_widget])\n",
    "\n",
    "scenario_widget = widgets.Button(description=\"Create a Josephus Scenario\")\n",
    "\n",
    "form_item_layout = widgets.Layout(\n",
    "    align_items='stretch')\n",
    "\n",
    "scenario_widget_box = widgets.VBox([n_box,k_box, scenario_widget],layout=form_item_layout)\n",
    "scenario_box = widgets.VBox([scenario_header, scenario_widget_box])\n",
    "\n",
    "# PLAYBACK UI\n",
    "playback_header = widgets.Text(\"Playback Scenario Executions\")\n",
    "itn_label = widgets.Label(\"Which iteration to visualise\")\n",
    "itn_widget = widgets.IntSlider(value=9, min=0, max=9,)\n",
    "itn_playback = widgets.Play(value=9, min=1, max=9, interval=2000)\n",
    "itn_box = widgets.HBox([itn_label, itn_playback, itn_widget])\n",
    "widgets.jslink((itn_playback,'value'), (itn_widget,'value'))\n",
    "\n",
    "\n",
    "playback_box = widgets.VBox([playback_header, itn_box])\n",
    "\n",
    "\n",
    "\n",
    "def runScenario(*args):\n",
    "    playback_box.layout = widgets.Layout(visibility = 'visible')\n",
    "    #FE(n_widget.value, k_widget.value, itn_widget.value)\n",
    "    \n",
    "    global all_iterations, xs, ys\n",
    "    \n",
    "    n = n_widget.value\n",
    "    k = k_widget.value\n",
    "    itn = itn_widget.value    \n",
    "    \n",
    "    all_iterations, xs, ys = doJosephus(n,k,verbose=False)\n",
    "    #plotIteration(all_iterations, xs, ys, iteration = itn)    \n",
    "    \n",
    "    \n",
    "def playbackScenario(itn):\n",
    "    with out:\n",
    "        print(\"ye\")\n",
    "\n",
    "    #plotIteration(all_iterations, xs, ys, iteration = itn)\n",
    "\n",
    "    print(\"bla\")\n",
    "    \n",
    "    \n",
    "    \n",
    "    \n",
    "out = widgets.interactive_output(playbackScenario, {'itn':itn_widget })\n",
    "\n",
    "playback_box.layout = widgets.Layout(visibility = 'hidden')\n",
    "out.layout = widgets.Layout(visibility = 'hidden')\n",
    "display(scenario_box, playback_box, out)\n",
    "\n",
    "\n",
    "# USER ACTIONS\n",
    "#Button click\n",
    "scenario_widget.on_click(runScenario)\n",
    "#Slider or playback\n",
    "itn_widget.observe(playbackScenario, 'value')\n",
    "\n",
    "\n",
    "\n",
    "\n"
   ]
  },
  {
   "cell_type": "code",
   "execution_count": 43,
   "metadata": {},
   "outputs": [
    {
     "ename": "AttributeError",
     "evalue": "'VBox' object has no attribute 'show'",
     "output_type": "error",
     "traceback": [
      "\u001b[0;31m---------------------------------------------------------------------------\u001b[0m",
      "\u001b[0;31mAttributeError\u001b[0m                            Traceback (most recent call last)",
      "\u001b[0;32m<ipython-input-43-5ff87da26962>\u001b[0m in \u001b[0;36m<module>\u001b[0;34m\u001b[0m\n\u001b[0;32m----> 1\u001b[0;31m \u001b[0mplayback_box\u001b[0m\u001b[0;34m.\u001b[0m\u001b[0mshow\u001b[0m\u001b[0;34m(\u001b[0m\u001b[0;34m)\u001b[0m\u001b[0;34m\u001b[0m\u001b[0;34m\u001b[0m\u001b[0m\n\u001b[0m",
      "\u001b[0;31mAttributeError\u001b[0m: 'VBox' object has no attribute 'show'"
     ]
    }
   ],
   "source": [
    "playback_box.show()"
   ]
  },
  {
   "cell_type": "code",
   "execution_count": 44,
   "metadata": {},
   "outputs": [],
   "source": [
    "# Playback from 0 to n-1 executions, not 1 to 9\n",
    "# Improve visualisation with additional text"
   ]
  },
  {
   "cell_type": "code",
   "execution_count": 50,
   "metadata": {},
   "outputs": [
    {
     "data": {
      "application/vnd.jupyter.widget-view+json": {
       "model_id": "16743f75b3124fa6997f26509159b24f",
       "version_major": 2,
       "version_minor": 0
      },
      "text/plain": [
       "VBox(children=(Text(value='Create Josephus Scenario'), VBox(children=(HBox(children=(Label(value='Number of Pe…"
      ]
     },
     "metadata": {},
     "output_type": "display_data"
    },
    {
     "data": {
      "application/vnd.jupyter.widget-view+json": {
       "model_id": "16743f75b3124fa6997f26509159b24f",
       "version_major": 2,
       "version_minor": 0
      },
      "text/plain": [
       "VBox(children=(Text(value='Create Josephus Scenario'), VBox(children=(HBox(children=(Label(value='Number of Pe…"
      ]
     },
     "metadata": {},
     "output_type": "display_data"
    }
   ],
   "source": []
  },
  {
   "cell_type": "code",
   "execution_count": null,
   "metadata": {},
   "outputs": [],
   "source": [
    "\n",
    "\n",
    "\n",
    "#def set_itn_default(*args):\n",
    "#    itn_widget.max = n_widget.value -1\n",
    "#    itn_widget.value = n_widget.value -1\n",
    "#\n",
    "#n_widget.observe(set_itn_default, 'value')\n",
    "#k_widget.observe(set_itn_default, 'value')\n",
    "\n",
    "\n",
    "\n",
    "    \n",
    "#def FE(n_points, k, iteration):\n",
    "#    global all_iterations, xs, ys#\n",
    "#\n",
    "#    if iteration == n_points-1:\n",
    "#        all_iterations, xs, ys = doJosephus(n_points,k,verbose=False)\n",
    "#        \n",
    "#    plotIteration(all_iterations, xs, ys, iteration = iteration)\n",
    "    \n",
    "\n",
    "#out = widgets.interactive_output(FE, {'n_points': n_widget, 'k': k_widget, 'iteration':itn_widget},)\n",
    "\n",
    "#Pair the player and iteration slider\n"
   ]
  }
 ],
 "metadata": {
  "kernelspec": {
   "display_name": "Python 3",
   "language": "python",
   "name": "python3"
  },
  "language_info": {
   "codemirror_mode": {
    "name": "ipython",
    "version": 3
   },
   "file_extension": ".py",
   "mimetype": "text/x-python",
   "name": "python",
   "nbconvert_exporter": "python",
   "pygments_lexer": "ipython3",
   "version": "3.7.5"
  }
 },
 "nbformat": 4,
 "nbformat_minor": 2
}
